{
 "cells": [
  {
   "cell_type": "markdown",
   "metadata": {},
   "source": [
    "# 1. read original dataset"
   ]
  },
  {
   "cell_type": "code",
   "execution_count": 5,
   "metadata": {},
   "outputs": [
    {
     "name": "stdout",
     "output_type": "stream",
     "text": [
      "61328\n",
      ", set()\n",
      "NO_SCRN_DSCR, set()\n",
      "insetBorderVertical, {'method_name'}\n",
      "VFFFFIFIF, set()\n",
      "single_tab_toolbar_container, {'field_name'}\n",
      "onDownload, {'method_name'}\n",
      "crashServiceForTesting, {'method_name'}\n",
      "fifth_download_font_size, {'field_name'}\n",
      "Landroid/support/v4/widget/PopupWindowCompat$Api23PopupWindowImpl;, {'type'}\n",
      "ErrorService, {'field_name'}\n"
     ]
    }
   ],
   "source": [
    "import os\n",
    "\n",
    "# read dataset and convert to dict format\n",
    "with open( os.path.join('str_txt/str_dict_360mse_nh00002.dex.jl.txt'), 'r' ) as fr:\n",
    "    feadic = eval(fr.read())\n",
    "    print(len(feadic))\n",
    "\n",
    "# get all keys\n",
    "keys = []\n",
    "for k in feadic:\n",
    "    keys.append(k)\n",
    "\n",
    "# print 10 strings\n",
    "for k in keys[:10]:\n",
    "    print('{0}, {1}'.format(k, feadic[k]))"
   ]
  },
  {
   "cell_type": "code",
   "execution_count": null,
   "metadata": {
    "collapsed": true
   },
   "outputs": [],
   "source": []
  },
  {
   "cell_type": "code",
   "execution_count": null,
   "metadata": {
    "collapsed": true
   },
   "outputs": [],
   "source": []
  }
 ],
 "metadata": {
  "kernelspec": {
   "display_name": "Python 3",
   "language": "python",
   "name": "python3"
  },
  "language_info": {
   "codemirror_mode": {
    "name": "ipython",
    "version": 3
   },
   "file_extension": ".py",
   "mimetype": "text/x-python",
   "name": "python",
   "nbconvert_exporter": "python",
   "pygments_lexer": "ipython3",
   "version": "3.5.3"
  }
 },
 "nbformat": 4,
 "nbformat_minor": 2
}
