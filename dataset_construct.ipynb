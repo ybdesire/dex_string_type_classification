{
 "cells": [
  {
   "cell_type": "markdown",
   "metadata": {},
   "source": [
    "# 1. read original dataset"
   ]
  },
  {
   "cell_type": "code",
   "execution_count": 5,
   "metadata": {},
   "outputs": [
    {
     "name": "stdout",
     "output_type": "stream",
     "text": [
      "61328\n",
      ", set()\n",
      "NO_SCRN_DSCR, set()\n",
      "insetBorderVertical, {'method_name'}\n",
      "VFFFFIFIF, set()\n",
      "single_tab_toolbar_container, {'field_name'}\n",
      "onDownload, {'method_name'}\n",
      "crashServiceForTesting, {'method_name'}\n",
      "fifth_download_font_size, {'field_name'}\n",
      "Landroid/support/v4/widget/PopupWindowCompat$Api23PopupWindowImpl;, {'type'}\n",
      "ErrorService, {'field_name'}\n"
     ]
    }
   ],
   "source": [
    "import os\n",
    "\n",
    "# read dataset and convert to dict format\n",
    "with open( os.path.join('str_txt/str_dict_360mse_nh00002.dex.jl.txt'), 'r' ) as fr:\n",
    "    feadic = eval(fr.read())\n",
    "    print(len(feadic))\n",
    "\n",
    "# get all keys\n",
    "keys = []\n",
    "for k in feadic:\n",
    "    keys.append(k)\n",
    "\n",
    "# print 10 strings\n",
    "for k in keys[:10]:\n",
    "    print('{0}, {1}'.format(k, feadic[k]))"
   ]
  },
  {
   "cell_type": "markdown",
   "metadata": {
    "collapsed": true
   },
   "source": [
    "# 2. Unicode issue"
   ]
  },
  {
   "cell_type": "code",
   "execution_count": 1,
   "metadata": {},
   "outputs": [
    {
     "name": "stdout",
     "output_type": "stream",
     "text": [
      "61328\n",
      "{\"errno\":\"1021001\",\"errmsg\":\"RSAè§£å¯éè¯¯\"}\n"
     ]
    }
   ],
   "source": [
    "import os\n",
    "\n",
    "with open( os.path.join('str_txt/str_dict_360mse_nh00002.dex.jl.txt'), 'r' ) as fr:\n",
    "    feadic = eval(fr.read())\n",
    "    print(len(feadic))\n",
    "\n",
    "for k in feadic:\n",
    "    if('1021001' in k):\n",
    "        print( k ) # RSA解密错误\n",
    "        kk =k"
   ]
  },
  {
   "cell_type": "markdown",
   "metadata": {},
   "source": [
    "## below is the hints for solution"
   ]
  },
  {
   "cell_type": "code",
   "execution_count": 2,
   "metadata": {},
   "outputs": [
    {
     "data": {
      "text/plain": [
       "'{\"errno\":\"1021001\",\"errmsg\":\"RSA解密错误\"}'"
      ]
     },
     "execution_count": 2,
     "metadata": {},
     "output_type": "execute_result"
    }
   ],
   "source": [
    "kkk = '{\"errno\":\"1021001\",\"errmsg\":\"RSA\\xe8\\xa7\\xa3\\xe5\\xaf\\x86\\xe9\\x94\\x99\\xe8\\xaf\\xaf\"}' # kk在原始文件中是这样\n",
    "kkkk = b'{\"errno\":\"1021001\",\"errmsg\":\"RSA\\xe8\\xa7\\xa3\\xe5\\xaf\\x86\\xe9\\x94\\x99\\xe8\\xaf\\xaf\"}' # 若能把它变为bytes，下面就能正确打印\n",
    "\n",
    "kkkk.decode('utf-8')"
   ]
  },
  {
   "cell_type": "code",
   "execution_count": 3,
   "metadata": {},
   "outputs": [
    {
     "data": {
      "text/plain": [
       "'{\"errno\":\"1021001\",\"errmsg\":\"RSA解密错误\"}'"
      ]
     },
     "execution_count": 3,
     "metadata": {},
     "output_type": "execute_result"
    }
   ],
   "source": [
    "# encoded to raw then decode as utf-8 solved the issue\n",
    "x = kkk\n",
    "y =  x.encode('raw_unicode_escape')\n",
    "y.decode('utf8')"
   ]
  }
 ],
 "metadata": {
  "kernelspec": {
   "display_name": "Python 3",
   "language": "python",
   "name": "python3"
  },
  "language_info": {
   "codemirror_mode": {
    "name": "ipython",
    "version": 3
   },
   "file_extension": ".py",
   "mimetype": "text/x-python",
   "name": "python",
   "nbconvert_exporter": "python",
   "pygments_lexer": "ipython3",
   "version": "3.5.3"
  }
 },
 "nbformat": 4,
 "nbformat_minor": 2
}
